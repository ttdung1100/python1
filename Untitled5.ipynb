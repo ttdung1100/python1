{
 "cells": [
  {
   "cell_type": "code",
   "execution_count": 1,
   "metadata": {},
   "outputs": [
    {
     "name": "stdout",
     "output_type": "stream",
     "text": [
      "Printing Array\n",
      "[[0 0]\n",
      " [0 0]\n",
      " [0 0]\n",
      " [0 0]]\n",
      "Printing numpy array Attributes\n",
      "1> Array Shape is:  (4, 2)\n",
      "2>. Array dimensions are  2\n",
      "3>. Length of each element of array in bytes is  2\n"
     ]
    }
   ],
   "source": [
    "import numpy\n",
    "firstArray = numpy.empty([4,2], dtype = numpy.uint16) \n",
    "print(\"Printing Array\")\n",
    "print(firstArray)\n",
    "print(\"Printing numpy array Attributes\")\n",
    "print(\"1> Array Shape is: \", firstArray.shape)\n",
    "print(\"2>. Array dimensions are \", firstArray.ndim)\n",
    "print(\"3>. Length of each element of array in bytes is \", firstArray.itemsize)\n"
   ]
  },
  {
   "cell_type": "code",
   "execution_count": 2,
   "metadata": {},
   "outputs": [
    {
     "name": "stdout",
     "output_type": "stream",
     "text": [
      "Creating 5X2 array using numpy.arange\n",
      "[[100 110]\n",
      " [120 130]\n",
      " [140 150]\n",
      " [160 170]\n",
      " [180 190]]\n"
     ]
    }
   ],
   "source": [
    "import numpy\n",
    "print(\"Creating 5X2 array using numpy.arange\")\n",
    "sampleArray = numpy.arange(100, 200, 10)\n",
    "sampleArray = sampleArray.reshape(5,2)\n",
    "print (sampleArray)\n"
   ]
  },
  {
   "cell_type": "code",
   "execution_count": 3,
   "metadata": {},
   "outputs": [
    {
     "name": "stdout",
     "output_type": "stream",
     "text": [
      "Printing Input Array\n",
      "[[11 22 33]\n",
      " [44 55 66]\n",
      " [77 88 99]]\n",
      "\n",
      " Printing array of items in the third column from all rows\n",
      "[22 55 88]\n"
     ]
    }
   ],
   "source": [
    "import numpy\n",
    "sampleArray = numpy.array([[11 ,22, 33], [44, 55, 66], [77, 88, 99]]) \n",
    "print(\"Printing Input Array\")\n",
    "print(sampleArray)\n",
    "print(\"\\n Printing array of items in the third column from all rows\")\n",
    "newArray = sampleArray[...,1]\n",
    "print(newArray)\n"
   ]
  },
  {
   "cell_type": "code",
   "execution_count": 4,
   "metadata": {},
   "outputs": [
    {
     "name": "stdout",
     "output_type": "stream",
     "text": [
      "Printing Input Array\n",
      "[[ 3  6  9 12]\n",
      " [15 18 21 24]\n",
      " [27 30 33 36]\n",
      " [39 42 45 48]\n",
      " [51 54 57 60]]\n",
      "\n",
      " Printing array of odd rows and even columns\n",
      "[[ 6 12]\n",
      " [30 36]\n",
      " [54 60]]\n"
     ]
    }
   ],
   "source": [
    "import numpy\n",
    "sampleArray = numpy.array([[3 ,6, 9, 12], [15 ,18, 21, 24], \n",
    "[27 ,30, 33, 36], [39 ,42, 45, 48], [51 ,54, 57, 60]]) \n",
    "print(\"Printing Input Array\")\n",
    "print(sampleArray)\n",
    "print(\"\\n Printing array of odd rows and even columns\")\n",
    "newArray = sampleArray[::2, 1::2]\n",
    "print(newArray)\n"
   ]
  },
  {
   "cell_type": "code",
   "execution_count": 5,
   "metadata": {},
   "outputs": [
    {
     "name": "stdout",
     "output_type": "stream",
     "text": [
      "addition of two arrays is \n",
      "\n",
      "[[20 39 33]\n",
      " [25 25 28]]\n",
      "\n",
      "Result array after calculating the square root of all elements\n",
      "\n",
      "[[ 400 1521 1089]\n",
      " [ 625  625  784]]\n"
     ]
    }
   ],
   "source": [
    "import numpy\n",
    "arrayOne = numpy.array([[5, 6, 9], [21 ,18, 27]])\n",
    "arrayTwo = numpy.array([[15 ,33, 24], [4 ,7, 1]])\n",
    "resultArray  = arrayOne + arrayTwo\n",
    "print(\"addition of two arrays is \\n\")\n",
    "print(resultArray)\n",
    "for num in numpy.nditer(resultArray, op_flags = ['readwrite']):\n",
    "   num[...] = num*num\n",
    "print(\"\\nResult array after calculating the square root of all elements\\n\")\n",
    "print(resultArray)\n"
   ]
  },
  {
   "cell_type": "code",
   "execution_count": 6,
   "metadata": {},
   "outputs": [
    {
     "name": "stdout",
     "output_type": "stream",
     "text": [
      "Creating 8X3 array using numpy.arange\n",
      "[[10 11 12]\n",
      " [13 14 15]\n",
      " [16 17 18]\n",
      " [19 20 21]\n",
      " [22 23 24]\n",
      " [25 26 27]\n",
      " [28 29 30]\n",
      " [31 32 33]]\n",
      "\n",
      "Dividing 8X3 array into 4 sub array\n",
      "\n",
      "[array([[10, 11, 12],\n",
      "       [13, 14, 15]]), array([[16, 17, 18],\n",
      "       [19, 20, 21]]), array([[22, 23, 24],\n",
      "       [25, 26, 27]]), array([[28, 29, 30],\n",
      "       [31, 32, 33]])]\n"
     ]
    }
   ],
   "source": [
    "import numpy\n",
    "print(\"Creating 8X3 array using numpy.arange\")\n",
    "sampleArray = numpy.arange(10, 34, 1)\n",
    "sampleArray = sampleArray.reshape(8,3)\n",
    "print (sampleArray)\n",
    "print(\"\\nDividing 8X3 array into 4 sub array\\n\")\n",
    "subArrays = numpy.split(sampleArray, 4) \n",
    "print(subArrays)\n"
   ]
  },
  {
   "cell_type": "code",
   "execution_count": 7,
   "metadata": {},
   "outputs": [
    {
     "name": "stdout",
     "output_type": "stream",
     "text": [
      "Printing Original array\n",
      "[[34 43 73]\n",
      " [82 22 12]\n",
      " [53 94 66]]\n",
      "Sorting Original array by secoond row\n",
      "[[73 43 34]\n",
      " [12 22 82]\n",
      " [66 94 53]]\n",
      "Sorting Original array by secoond column\n",
      "[[82 22 12]\n",
      " [34 43 73]\n",
      " [53 94 66]]\n"
     ]
    }
   ],
   "source": [
    "import numpy\n",
    "print(\"Printing Original array\")\n",
    "sampleArray = numpy.array([[34,43,73],[82,22,12],[53,94,66]]) \n",
    "print (sampleArray)\n",
    "sortArrayByRow = sampleArray[:,sampleArray[1,:].argsort()]\n",
    "print(\"Sorting Original array by secoond row\")\n",
    "print(sortArrayByRow)\n",
    "print(\"Sorting Original array by secoond column\")\n",
    "sortArrayByColumn = sampleArray[sampleArray[:,1].argsort()]\n",
    "print(sortArrayByColumn)\n"
   ]
  },
  {
   "cell_type": "code",
   "execution_count": 8,
   "metadata": {},
   "outputs": [
    {
     "name": "stdout",
     "output_type": "stream",
     "text": [
      "Printing Original array\n",
      "[[34 43 73]\n",
      " [82 22 12]\n",
      " [53 94 66]]\n",
      "Printing amin Of Axis 1\n",
      "[34 12 53]\n",
      "Printing amax Of Axis 0\n",
      "[82 94 73]\n"
     ]
    }
   ],
   "source": [
    "import numpy\n",
    "print(\"Printing Original array\")\n",
    "sampleArray = numpy.array([[34,43,73],[82,22,12],[53,94,66]]) \n",
    "print (sampleArray)\n",
    "minOfAxisOne = numpy.amin(sampleArray, 1) \n",
    "print(\"Printing amin Of Axis 1\")\n",
    "print(minOfAxisOne)\n",
    "maxOfAxisOne = numpy.amax(sampleArray, 0) \n",
    "print(\"Printing amax Of Axis 0\")\n",
    "print(maxOfAxisOne)\n"
   ]
  },
  {
   "cell_type": "code",
   "execution_count": 9,
   "metadata": {},
   "outputs": [
    {
     "name": "stdout",
     "output_type": "stream",
     "text": [
      "Printing Original array\n",
      "[[34 43 73]\n",
      " [82 22 12]\n",
      " [53 94 66]]\n",
      "Array after deleting column 2 on axis 1\n",
      "[[34 73]\n",
      " [82 12]\n",
      " [53 66]]\n",
      "Array after inserting column 2 on axis 1\n",
      "[[34 10 73]\n",
      " [82 10 12]\n",
      " [53 10 66]]\n"
     ]
    }
   ],
   "source": [
    "import numpy\n",
    "print(\"Printing Original array\")\n",
    "sampleArray = numpy.array([[34,43,73],[82,22,12],[53,94,66]]) \n",
    "print (sampleArray)\n",
    "print(\"Array after deleting column 2 on axis 1\")\n",
    "sampleArray = numpy.delete(sampleArray , 1, axis = 1) \n",
    "print (sampleArray)\n",
    "arr = numpy.array([[10,10,10]])\n",
    "print(\"Array after inserting column 2 on axis 1\")\n",
    "sampleArray = numpy.insert(sampleArray , 1, arr, axis = 1) \n",
    "print (sampleArray)\n"
   ]
  },
  {
   "cell_type": "code",
   "execution_count": 11,
   "metadata": {},
   "outputs": [
    {
     "name": "stdout",
     "output_type": "stream",
     "text": [
      "Printing Original array\n",
      "[[34 43 73]\n",
      " [82 22 12]\n",
      " [53 94 66]]\n",
      "Array after deleting column 2 on axis 1\n",
      "[[34 73]\n",
      " [82 12]\n",
      " [53 66]]\n",
      "Array after inserting column 2 on axis 1\n",
      "[[34 10 73]\n",
      " [82 10 12]\n",
      " [53 10 66]]\n"
     ]
    }
   ],
   "source": [
    "import numpy\n",
    "print(\"Printing Original array\")\n",
    "sampleArray = numpy.array([[34,43,73],[82,22,12],[53,94,66]]) \n",
    "print (sampleArray)\n",
    "print(\"Array after deleting column 2 on axis 1\")\n",
    "sampleArray = numpy.delete(sampleArray , 1, axis = 1) \n",
    "print (sampleArray)\n",
    "arr = numpy.array([[10,10,10]])\n",
    "print(\"Array after inserting column 2 on axis 1\")\n",
    "sampleArray = numpy.insert(sampleArray , 1, arr, axis = 1) \n",
    "print (sampleArray)\n"
   ]
  },
  {
   "cell_type": "code",
   "execution_count": null,
   "metadata": {},
   "outputs": [],
   "source": []
  }
 ],
 "metadata": {
  "kernelspec": {
   "display_name": "Python 3",
   "language": "python",
   "name": "python3"
  },
  "language_info": {
   "codemirror_mode": {
    "name": "ipython",
    "version": 3
   },
   "file_extension": ".py",
   "mimetype": "text/x-python",
   "name": "python",
   "nbconvert_exporter": "python",
   "pygments_lexer": "ipython3",
   "version": "3.7.3"
  }
 },
 "nbformat": 4,
 "nbformat_minor": 2
}
