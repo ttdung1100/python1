{
 "cells": [
  {
   "cell_type": "code",
   "execution_count": 1,
   "metadata": {},
   "outputs": [
    {
     "data": {
      "text/plain": [
       "[0, 2, 4, 6, 8]"
      ]
     },
     "execution_count": 1,
     "metadata": {},
     "output_type": "execute_result"
    }
   ],
   "source": [
    "[i for i in range(10) if i%2 == 0]\n",
    "#> [0, 2, 4, 6, 8]\n"
   ]
  },
  {
   "cell_type": "code",
   "execution_count": 2,
   "metadata": {},
   "outputs": [],
   "source": [
    "result = []\n",
    "for i in range(10):\n",
    "    if i%2 == 0:\n",
    "        result.append(i)\n"
   ]
  },
  {
   "cell_type": "code",
   "execution_count": 3,
   "metadata": {},
   "outputs": [
    {
     "name": "stdout",
     "output_type": "stream",
     "text": [
      "[1, 4, 9, 16, 25]\n"
     ]
    }
   ],
   "source": [
    "mylist = [1,2,3,4,5]\n",
    "\n",
    "# For Loop Version\n",
    "result = []\n",
    "for i in mylist:\n",
    "    result.append(i**2)\n",
    "\n",
    "print(result)\n",
    "#> [1, 4, 9, 16, 25]\n"
   ]
  },
  {
   "cell_type": "code",
   "execution_count": 4,
   "metadata": {},
   "outputs": [
    {
     "name": "stdout",
     "output_type": "stream",
     "text": [
      "[1, 4, 9, 16, 25]\n"
     ]
    }
   ],
   "source": [
    "result = [i**2 for i in [1,2,3,4,5]]\n",
    "print(result)\n",
    "#> [1, 4, 9, 16, 25]\n"
   ]
  },
  {
   "cell_type": "code",
   "execution_count": 5,
   "metadata": {},
   "outputs": [
    {
     "name": "stdout",
     "output_type": "stream",
     "text": [
      "[4, 16]\n"
     ]
    }
   ],
   "source": [
    "mylist = [1,2,3,4,5]\n",
    "\n",
    "# For Loop Version\n",
    "result = []\n",
    "for i in mylist:\n",
    "    if i%2==0:\n",
    "        result.append(i**2)\n",
    "\n",
    "print(result)\n",
    "#> [4, 16]\n"
   ]
  },
  {
   "cell_type": "code",
   "execution_count": 6,
   "metadata": {},
   "outputs": [
    {
     "name": "stdout",
     "output_type": "stream",
     "text": [
      "[4, 16]\n"
     ]
    }
   ],
   "source": [
    "# List Comprehension Version\n",
    "result = [i**2 for i in [1,2,3,4,5] if i%2==0]\n",
    "print(result)\n",
    "#> [4, 16]\n"
   ]
  },
  {
   "cell_type": "code",
   "execution_count": 7,
   "metadata": {},
   "outputs": [
    {
     "name": "stdout",
     "output_type": "stream",
     "text": [
      "[1, 4, 27, 16, 125]\n"
     ]
    }
   ],
   "source": [
    "mylist = [1,2,3,4,5]\n",
    "# For Loop Version\n",
    "result = []\n",
    "for i in mylist:\n",
    "    if i%2==0:\n",
    "        result.append(i**2)\n",
    "    else:\n",
    "        result.append(i**3)\n",
    "\n",
    "print(result)\n",
    "#> [1, 4, 27, 16, 125]\n"
   ]
  },
  {
   "cell_type": "code",
   "execution_count": 8,
   "metadata": {},
   "outputs": [
    {
     "data": {
      "text/plain": [
       "[1, 4, 27, 16, 125]"
      ]
     },
     "execution_count": 8,
     "metadata": {},
     "output_type": "execute_result"
    }
   ],
   "source": [
    "[i**2 if i%2==0 else i**3 for i in [1,2,3,4,5]]\n",
    "#> [1, 4, 27, 16, 125]\n"
   ]
  },
  {
   "cell_type": "code",
   "execution_count": 9,
   "metadata": {},
   "outputs": [
    {
     "name": "stdout",
     "output_type": "stream",
     "text": [
      "[2, 4, 6, 8, 10, 12, 14, 16]\n"
     ]
    }
   ],
   "source": [
    "# For Loop Version\n",
    "mat = [[1,2,3,4], [5,6,7,8], [9,10,11,12], [13,14,15,16]]\n",
    "result = []\n",
    "for row in mat:\n",
    "    for i in row:\n",
    "        if i%2 == 0:\n",
    "            result.append(i)\n",
    "\n",
    "print(result)\n",
    "#> [2, 4, 6, 8, 10, 12, 14, 16]\n"
   ]
  },
  {
   "cell_type": "code",
   "execution_count": 10,
   "metadata": {},
   "outputs": [
    {
     "data": {
      "text/plain": [
       "[2, 4, 6, 8, 10, 12, 14, 16]"
      ]
     },
     "execution_count": 10,
     "metadata": {},
     "output_type": "execute_result"
    }
   ],
   "source": [
    "# List Comprehension version\n",
    "[i for row in mat for i in row if i%2==0]\n",
    "#> [2, 4, 6, 8, 10, 12, 14, 16]\n"
   ]
  },
  {
   "cell_type": "code",
   "execution_count": 11,
   "metadata": {},
   "outputs": [
    {
     "name": "stdout",
     "output_type": "stream",
     "text": [
      "[(6, 2), (4, 8), (6, 2), (1, 3), (2, 7), (2, 7)]\n"
     ]
    }
   ],
   "source": [
    "mylist = [9, 3, 6, 1, 5, 0, 8, 2, 4, 7]\n",
    "list_b = [6, 4, 6, 1, 2, 2]\n",
    "\n",
    "result = []\n",
    "for i in list_b:\n",
    "    result.append((i, mylist.index(i)))\n",
    "\n",
    "print(result)\n",
    "#> [(6, 2), (4, 8), (6, 2), (1, 3), (2, 7), (2, 7)]\n"
   ]
  },
  {
   "cell_type": "code",
   "execution_count": 12,
   "metadata": {},
   "outputs": [
    {
     "data": {
      "text/plain": [
       "[(6, 2), (4, 8), (6, 2), (1, 3), (2, 7), (2, 7)]"
      ]
     },
     "execution_count": 12,
     "metadata": {},
     "output_type": "execute_result"
    }
   ],
   "source": [
    "[(i, mylist.index(i)) for i in list_b]\n",
    "#> [(6, 2), (4, 8), (6, 2), (1, 3), (2, 7), (2, 7)]\n"
   ]
  },
  {
   "cell_type": "code",
   "execution_count": 13,
   "metadata": {},
   "outputs": [
    {
     "name": "stdout",
     "output_type": "stream",
     "text": [
      "{6: 2, 4: 8, 1: 3, 2: 7}\n"
     ]
    }
   ],
   "source": [
    "mylist = [9, 3, 6, 1, 5, 0, 8, 2, 4, 7]\n",
    "list_b = [6, 4, 6, 1, 2, 2]\n",
    "\n",
    "result = {}\n",
    "for i in list_b:\n",
    "    result[i]=mylist.index(i)\n",
    "\n",
    "print(result)\n",
    "#> {6: 2, 4: 8, 1: 3, 2: 7}\n"
   ]
  },
  {
   "cell_type": "code",
   "execution_count": 14,
   "metadata": {},
   "outputs": [
    {
     "data": {
      "text/plain": [
       "{6: 2, 4: 8, 1: 3, 2: 7}"
      ]
     },
     "execution_count": 14,
     "metadata": {},
     "output_type": "execute_result"
    }
   ],
   "source": [
    "{i: mylist.index(i) for i in list_b}\n",
    "#> {6: 2, 4: 8, 1: 3, 2: 7}\n"
   ]
  },
  {
   "cell_type": "code",
   "execution_count": 20,
   "metadata": {},
   "outputs": [
    {
     "name": "stdout",
     "output_type": "stream",
     "text": [
      "[['new', 'world', 'record', 'was', 'set'], ['holy', 'city', 'ayodhya'], ['eve', 'diwali', 'tuesday'], ['over', 'three', 'lakh', 'diya', 'or', 'earthen', 'lamps'], ['lit', 'up', 'simultaneously', 'banks', 'sarayu', 'river']]\n"
     ]
    }
   ],
   "source": [
    "sentences = [\"a new world record was set\", \n",
    "             \"in the holy city of ayodhya\", \n",
    "             \"on the eve of diwali on tuesday\", \n",
    "             \"with over three lakh diya or earthen lamps\", \n",
    "             \"lit up simultaneously on the banks of the sarayu river\"]\n",
    "\n",
    "stopwords = ['for', 'a', 'of', 'the', 'and', 'to', 'in', 'on', 'with']\n",
    "\n",
    "# For Loop Version\n",
    "results = []    \n",
    "for sentence in sentences:\n",
    "    sentence_tokens = []\n",
    "    for word in sentence.split(' '):\n",
    "        if word not in stopwords:\n",
    "            sentence_tokens.append(word)\n",
    "    results.append(sentence_tokens)\n",
    "\n",
    "print(results)\n",
    "#> [['new', 'world', 'record', 'was', 'set'], \n",
    "#> ['holy', 'city', 'ayodhya'], \n",
    "#> ['eve', 'diwali', 'tuesday'], \n",
    "#> ['over', 'three', 'lakh', 'diya', 'or', 'earthen', 'lamps'], \n",
    "#> ['lit', 'up', 'simultaneously', 'banks', 'sarayu', 'river']]\n"
   ]
  },
  {
   "cell_type": "code",
   "execution_count": 21,
   "metadata": {},
   "outputs": [
    {
     "name": "stdout",
     "output_type": "stream",
     "text": [
      "['new', 'world', 'record', 'was', 'set', 'holy', 'city', 'ayodhya', 'eve', 'diwali', 'tuesday', 'over', 'three', 'lakh', 'diya', 'or', 'earthen', 'lamps', 'lit', 'up', 'simultaneously', 'banks', 'sarayu', 'river']\n"
     ]
    }
   ],
   "source": [
    "results = [word for sentence in sentences for word in sentence.split(' ') if word not in stopwords]\n",
    "print(results)\n",
    "#> ['new', 'world', 'record', 'was', 'set', 'holy', 'city', 'ayodhya', 'eve', 'diwali', 'tuesday', 'over', 'three', 'lakh', 'diya', 'or', 'earthen', 'lamps', 'lit', 'up', 'simultaneously', 'banks', 'sarayu', 'river']\n"
   ]
  },
  {
   "cell_type": "code",
   "execution_count": 22,
   "metadata": {},
   "outputs": [
    {
     "data": {
      "text/plain": [
       "[['new', 'world', 'record', 'was', 'set'],\n",
       " ['holy', 'city', 'ayodhya'],\n",
       " ['eve', 'diwali', 'tuesday'],\n",
       " ['over', 'three', 'lakh', 'diya', 'or', 'earthen', 'lamps'],\n",
       " ['lit', 'up', 'simultaneously', 'banks', 'sarayu', 'river']]"
      ]
     },
     "execution_count": 22,
     "metadata": {},
     "output_type": "execute_result"
    }
   ],
   "source": [
    "# List Comprehension Version\n",
    "[[word for word in sentence.split(' ') if word not in stopwords] for sentence in sentences]\n",
    "#> [['new', 'world', 'record', 'was', 'set'],\n",
    "#>  ['holy', 'city', 'ayodhya'],\n",
    "#>  ['eve', 'diwali', 'tuesday'],\n",
    "#>  ['over', 'three', 'lakh', 'diya', 'or', 'earthen', 'lamps'],\n",
    "#>  ['lit', 'up', 'simultaneously', 'banks', 'sarayu', 'river']]\n"
   ]
  },
  {
   "cell_type": "code",
   "execution_count": 24,
   "metadata": {},
   "outputs": [
    {
     "data": {
      "text/plain": [
       "[1, 2, -3, -4, -5, -6, -7, -8, 9, 10]"
      ]
     },
     "execution_count": 24,
     "metadata": {},
     "output_type": "execute_result"
    }
   ],
   "source": [
    "mylist = [1, 2, 3, 4, 5, 6, 7, 8, 9, 10]\n",
    "[-i if  3 <= i <= 8 else i for i in mylist]\n",
    "\n"
   ]
  },
  {
   "cell_type": "code",
   "execution_count": 25,
   "metadata": {},
   "outputs": [
    {
     "data": {
      "text/plain": [
       "{'a': 1,\n",
       " 'b': 2,\n",
       " 'c': 3,\n",
       " 'd': 4,\n",
       " 'e': 5,\n",
       " 'f': 6,\n",
       " 'g': 7,\n",
       " 'h': 8,\n",
       " 'i': 9,\n",
       " 'j': 10,\n",
       " 'k': 11,\n",
       " 'l': 12,\n",
       " 'm': 13,\n",
       " 'n': 14,\n",
       " 'o': 15,\n",
       " 'p': 16,\n",
       " 'q': 17,\n",
       " 'r': 18,\n",
       " 's': 19,\n",
       " 't': 20,\n",
       " 'u': 21,\n",
       " 'v': 22,\n",
       " 'w': 23,\n",
       " 'x': 24,\n",
       " 'y': 25,\n",
       " 'z': 26}"
      ]
     },
     "execution_count": 25,
     "metadata": {},
     "output_type": "execute_result"
    }
   ],
   "source": [
    "import string\n",
    "{a:i+1 for a,i in zip(string.ascii_letters[:26], range(26))}\n"
   ]
  },
  {
   "cell_type": "code",
   "execution_count": 26,
   "metadata": {},
   "outputs": [
    {
     "data": {
      "text/plain": [
       "[12, 5, 5, ' ', 17, 21, 1, 14, ' ', 25, 5, 23]"
      ]
     },
     "execution_count": 26,
     "metadata": {},
     "output_type": "execute_result"
    }
   ],
   "source": [
    "import string\n",
    "d = {a:i+1 for a,i in zip(string.ascii_lowercase, range(26))}\n",
    "[d.get(a.lower(), ' ') for a in 'Lee Quan Yew']\n"
   ]
  },
  {
   "cell_type": "code",
   "execution_count": 27,
   "metadata": {},
   "outputs": [
    {
     "data": {
      "text/plain": [
       "{'ayodhya',\n",
       " 'banks',\n",
       " 'city',\n",
       " 'diwali',\n",
       " 'diya',\n",
       " 'earthen',\n",
       " 'eve',\n",
       " 'holy',\n",
       " 'lakh',\n",
       " 'lamps',\n",
       " 'lit',\n",
       " 'new',\n",
       " 'or',\n",
       " 'over',\n",
       " 'record',\n",
       " 'river',\n",
       " 'sarayu',\n",
       " 'set',\n",
       " 'simultaneously',\n",
       " 'three',\n",
       " 'tuesday',\n",
       " 'up',\n",
       " 'was',\n",
       " 'world'}"
      ]
     },
     "execution_count": 27,
     "metadata": {},
     "output_type": "execute_result"
    }
   ],
   "source": [
    "{word.lower() for sentence in sentences for word in sentence.split(' ') if word not in stopwords}\n"
   ]
  },
  {
   "cell_type": "code",
   "execution_count": 28,
   "metadata": {},
   "outputs": [
    {
     "data": {
      "text/plain": [
       "[['new', 'world', 'record', 'was', 'set'],\n",
       " ['holy', 'city', 'ayodhya'],\n",
       " ['eve', 'diwali', 'tuesday'],\n",
       " ['over', 'three', 'lakh', 'diya', 'or', 'earthen', 'lamps'],\n",
       " ['lit', 'up', 'simultaneously', 'banks', 'sarayu', 'river']]"
      ]
     },
     "execution_count": 28,
     "metadata": {},
     "output_type": "execute_result"
    }
   ],
   "source": [
    "[[word.lower() for word in sentence.split(' ') if word not in stopwords] for sentence in sentences]\n"
   ]
  },
  {
   "cell_type": "code",
   "execution_count": 29,
   "metadata": {},
   "outputs": [
    {
     "data": {
      "text/plain": [
       "[('a', 0),\n",
       " ('new', 0),\n",
       " ('world', 0),\n",
       " ('record', 0),\n",
       " ('was', 0),\n",
       " ('set', 0),\n",
       " ('in', 1),\n",
       " ('the', 1),\n",
       " ('holy', 1),\n",
       " ('city', 1),\n",
       " ('of', 1),\n",
       " ('ayodhya', 1),\n",
       " ('on', 2),\n",
       " ('the', 2),\n",
       " ('eve', 2),\n",
       " ('of', 2),\n",
       " ('diwali', 2),\n",
       " ('on', 2),\n",
       " ('tuesday', 2),\n",
       " ('with', 3),\n",
       " ('over', 3),\n",
       " ('three', 3),\n",
       " ('lakh', 3),\n",
       " ('diya', 3),\n",
       " ('or', 3),\n",
       " ('earthen', 3),\n",
       " ('lamps', 3),\n",
       " ('lit', 4),\n",
       " ('up', 4),\n",
       " ('simultaneously', 4),\n",
       " ('on', 4),\n",
       " ('the', 4),\n",
       " ('banks', 4),\n",
       " ('of', 4),\n",
       " ('the', 4),\n",
       " ('sarayu', 4),\n",
       " ('river', 4)]"
      ]
     },
     "execution_count": 29,
     "metadata": {},
     "output_type": "execute_result"
    }
   ],
   "source": [
    "[(word.lower(), i) for i, sentence in enumerate(sentences) for word in sentence.split(' ')]\n"
   ]
  },
  {
   "cell_type": "code",
   "execution_count": 30,
   "metadata": {},
   "outputs": [
    {
     "data": {
      "text/plain": [
       "[['----', '----', '----', '----', '----', '----', '----', '----'],\n",
       " ['----', (1, 1), (2, 1), (3, 1), (4, 1), (5, 1), (6, 1), '----'],\n",
       " ['----', (1, 2), (2, 2), (3, 2), (4, 2), (5, 2), (6, 2), '----'],\n",
       " ['----', (1, 3), (2, 3), (3, 3), (4, 3), (5, 3), (6, 3), '----'],\n",
       " ['----', (1, 4), (2, 4), (3, 4), (4, 4), (5, 4), (6, 4), '----'],\n",
       " ['----', (1, 5), (2, 5), (3, 5), (4, 5), (5, 5), (6, 5), '----'],\n",
       " ['----', (1, 6), (2, 6), (3, 6), (4, 6), (5, 6), (6, 6), '----'],\n",
       " ['----', '----', '----', '----', '----', '----', '----', '----']]"
      ]
     },
     "execution_count": 30,
     "metadata": {},
     "output_type": "execute_result"
    }
   ],
   "source": [
    "[[(i,j) if (i not in (0, 7)) and (j not in (0, 7)) else ('----') for i in range(8)] for j in range(8)]\n"
   ]
  },
  {
   "cell_type": "code",
   "execution_count": null,
   "metadata": {},
   "outputs": [],
   "source": []
  }
 ],
 "metadata": {
  "kernelspec": {
   "display_name": "Python 3",
   "language": "python",
   "name": "python3"
  },
  "language_info": {
   "codemirror_mode": {
    "name": "ipython",
    "version": 3
   },
   "file_extension": ".py",
   "mimetype": "text/x-python",
   "name": "python",
   "nbconvert_exporter": "python",
   "pygments_lexer": "ipython3",
   "version": "3.7.3"
  }
 },
 "nbformat": 4,
 "nbformat_minor": 2
}
