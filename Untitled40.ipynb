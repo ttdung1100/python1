{
 "cells": [
  {
   "cell_type": "code",
   "execution_count": 1,
   "metadata": {},
   "outputs": [
    {
     "name": "stdout",
     "output_type": "stream",
     "text": [
      "0.900000000000000\n",
      "0.9000000000000001\n"
     ]
    }
   ],
   "source": [
    "#Rational values\n",
    "from sympy import Rational\n",
    "\n",
    "r1 = Rational(1/10)\n",
    "r2 = Rational(1/10)\n",
    "r3 = Rational(1/10)\n",
    "\n",
    "val = (r1 + r2 + r3) * 3\n",
    "print(val.evalf())\n",
    "\n",
    "val2 = (1/10 + 1/10 + 1/10) * 3\n",
    "print(val2)"
   ]
  },
  {
   "cell_type": "code",
   "execution_count": 2,
   "metadata": {},
   "outputs": [
    {
     "name": "stdout",
     "output_type": "stream",
     "text": [
      "√2\n",
      "sqrt(2)\n",
      "------------------------\n",
      " 2⋅x\n",
      "ℯ   \n",
      "────\n",
      " 2  \n",
      "exp(2*x)/2\n"
     ]
    }
   ],
   "source": [
    "#prettify.py\n",
    "\n",
    "from sympy import pprint, Symbol, exp, sqrt\n",
    "from sympy import init_printing\n",
    "\n",
    "init_printing(use_unicode=True)\n",
    "\n",
    "x = Symbol('x')\n",
    "\n",
    "a = sqrt(2)\n",
    "pprint(a)\n",
    "print(a)\n",
    "\n",
    "print(\"------------------------\")\n",
    "\n",
    "c = (exp(x) ** 2)/2\n",
    "pprint(c)\n",
    "print(c)"
   ]
  },
  {
   "cell_type": "code",
   "execution_count": 3,
   "metadata": {},
   "outputs": [
    {
     "name": "stdout",
     "output_type": "stream",
     "text": [
      "√2⋅√2\n",
      "equals to \n",
      "2\n"
     ]
    }
   ],
   "source": [
    "#square_root.py\n",
    "#!/usr/bin/env python\n",
    "\n",
    "from sympy import sqrt, pprint, Mul\n",
    "\n",
    "x = sqrt(2)\n",
    "y = sqrt(2)\n",
    "\n",
    "pprint(Mul(x,  y, evaluate=False)) \n",
    "print('equals to ')\n",
    "print(x * y)"
   ]
  },
  {
   "cell_type": "code",
   "execution_count": 4,
   "metadata": {},
   "outputs": [
    {
     "name": "stdout",
     "output_type": "stream",
     "text": [
      "2*x + 5*y\n",
      "a*b + a - b\n",
      "3*i*j\n"
     ]
    }
   ],
   "source": [
    "#def_sym.py\n",
    "#!/usr/bin/env python\n",
    "\n",
    "# ways to define symbols\n",
    "\n",
    "from sympy import Symbol, symbols\n",
    "from sympy.abc import x, y\n",
    "\n",
    "expr = 2*x + 5*y\n",
    "print(expr)\n",
    "\n",
    "a = Symbol('a')\n",
    "b = Symbol('b')\n",
    "\n",
    "expr2 = a*b + a - b\n",
    "print(expr2)\n",
    "\n",
    "i, j = symbols('i j')\n",
    "expr3 = 2*i*j + i*j\n",
    "print(expr3)"
   ]
  },
  {
   "cell_type": "code",
   "execution_count": 5,
   "metadata": {},
   "outputs": [
    {
     "name": "stdout",
     "output_type": "stream",
     "text": [
      "2*a*b + 3*a + 4*b\n"
     ]
    }
   ],
   "source": [
    "#canonical_form.py\n",
    "#!/usr/bin/env python\n",
    "\n",
    "from sympy.abc import a, b\n",
    "\n",
    "expr = b*a + -4*a + b + a*b + 4*a + (a + b)*3\n",
    "\n",
    "print(expr)"
   ]
  },
  {
   "cell_type": "code",
   "execution_count": 6,
   "metadata": {},
   "outputs": [
    {
     "name": "stdout",
     "output_type": "stream",
     "text": [
      "       2\n",
      "(x + 1) \n",
      "-----------------------\n",
      "-----------------------\n",
      " 2          \n",
      "x  + 2⋅x + 1\n"
     ]
    }
   ],
   "source": [
    "#SymPy expanding algebraic expressions\n",
    "#With expand(), we can expand algebraic expressions; i.e. the method tries to denest powers and multiplications.\n",
    "\n",
    "#expand.py\n",
    "#!/usr/bin/env python\n",
    "\n",
    "from sympy import expand, pprint\n",
    "from sympy.abc import x\n",
    "\n",
    "expr = (x + 1) ** 2\n",
    "\n",
    "pprint(expr)\n",
    "\n",
    "print('-----------------------')\n",
    "print('-----------------------')\n",
    "\n",
    "expr = expand(expr)\n",
    "pprint(expr)"
   ]
  },
  {
   "cell_type": "code",
   "execution_count": 7,
   "metadata": {},
   "outputs": [
    {
     "name": "stdout",
     "output_type": "stream",
     "text": [
      "sin(x)\n",
      "──────\n",
      "cos(x)\n",
      "-----------------------\n",
      "tan(x)\n"
     ]
    }
   ],
   "source": [
    "#SymPy simplify an expression\n",
    "#An expression can be changed with simplify() to a simpler form.\n",
    "\n",
    "#simplify.py\n",
    "#!/usr/bin/env python\n",
    "\n",
    "from sympy import sin, cos, simplify, pprint\n",
    "from sympy.abc import x\n",
    "\n",
    "expr = sin(x) / cos(x)\n",
    "\n",
    "pprint(expr)\n",
    "\n",
    "print('-----------------------')\n",
    "\n",
    "expr = simplify(expr)\n",
    "pprint(expr)"
   ]
  },
  {
   "cell_type": "code",
   "execution_count": 8,
   "metadata": {},
   "outputs": [
    {
     "name": "stdout",
     "output_type": "stream",
     "text": [
      "True\n",
      "False\n"
     ]
    }
   ],
   "source": [
    "#SymPy comparig expression\n",
    "#SymPy expressions are compared with equals() and not with == operator.\n",
    "#expr_equality.py\n",
    "#!/usr/bin/env python\n",
    "from sympy import pprint, Symbol, sin, cos\n",
    "x = Symbol('x')\n",
    "a = cos(x)**2 - sin(x)**2\n",
    "b = cos(2*x)\n",
    "print(a.equals(b))\n",
    "# we cannot use == operator\n",
    "print(a == b)"
   ]
  },
  {
   "cell_type": "code",
   "execution_count": 9,
   "metadata": {},
   "outputs": [
    {
     "name": "stdout",
     "output_type": "stream",
     "text": [
      "3.14159265358979323846264338328\n"
     ]
    }
   ],
   "source": [
    "#SymPy evaluating expression\n",
    "#Expressions can be evaluated by substitution of symbols.\n",
    "\n",
    "#evaluating.py\n",
    "#!/usr/bin/env python\n",
    "\n",
    "from sympy import pi\n",
    "\n",
    "print(pi.evalf(30))"
   ]
  },
  {
   "cell_type": "code",
   "execution_count": 10,
   "metadata": {},
   "outputs": [
    {
     "name": "stdout",
     "output_type": "stream",
     "text": [
      "29\n"
     ]
    }
   ],
   "source": [
    "#evaluating2.py\n",
    "#!/usr/bin/env python\n",
    "from sympy.abc import a, b\n",
    "from sympy import pprint\n",
    "expr = b*a + -4*a + b + a*b + 4*a + (a + b)*3\n",
    "print(expr.subs([(a, 3), (b, 2)]))"
   ]
  },
  {
   "cell_type": "code",
   "execution_count": 11,
   "metadata": {},
   "outputs": [
    {
     "name": "stdout",
     "output_type": "stream",
     "text": [
      "[0, 1]\n"
     ]
    }
   ],
   "source": [
    "#solving.py\n",
    "#!/usr/bin/env python\n",
    "from sympy import Symbol, solve\n",
    "x = Symbol('x')\n",
    "sol = solve(x**2 - x, x)\n",
    "print(sol)"
   ]
  },
  {
   "cell_type": "code",
   "execution_count": 12,
   "metadata": {},
   "outputs": [
    {
     "name": "stdout",
     "output_type": "stream",
     "text": [
      "0\n",
      "oo\n"
     ]
    }
   ],
   "source": [
    "#limit.py\n",
    "#!/usr/bin/env python\n",
    "from sympy import sin, limit, oo\n",
    "from sympy.abc import x\n",
    "l1 = limit(1/x, x, oo)\n",
    "print(l1)\n",
    "l2 = limit(1/x, x, 0)\n",
    "print(l2)"
   ]
  },
  {
   "cell_type": "code",
   "execution_count": 13,
   "metadata": {},
   "outputs": [
    {
     "name": "stdout",
     "output_type": "stream",
     "text": [
      "Matrix([[1, 2], [3, 4], [0, 3]])\n",
      "⎡1  2⎤\n",
      "⎢    ⎥\n",
      "⎢3  4⎥\n",
      "⎢    ⎥\n",
      "⎣0  3⎦\n",
      "---------------------------\n",
      "M * N\n",
      "---------------------------\n",
      "⎡6 ⎤\n",
      "⎢  ⎥\n",
      "⎢14⎥\n",
      "⎢  ⎥\n",
      "⎣6 ⎦\n"
     ]
    }
   ],
   "source": [
    "#SymPy matrixes\n",
    "#In SymPy, we can work with matrixes. A matrix is a rectangular array of numbers or other mathematical objects for which operations such as addition and multiplication are defined.\n",
    "#Matrixes are used in computing, engineering, or image processing.\n",
    "#matrix.py\n",
    "#!/usr/bin/env python\n",
    "from sympy import Matrix, pprint\n",
    "M = Matrix([[1, 2], [3, 4], [0, 3]])\n",
    "print(M)\n",
    "pprint(M)\n",
    "N = Matrix([2, 2])\n",
    "print(\"---------------------------\")\n",
    "print(\"M * N\")\n",
    "print(\"---------------------------\")\n",
    "pprint(M*N)"
   ]
  },
  {
   "cell_type": "code",
   "execution_count": 16,
   "metadata": {},
   "outputs": [
    {
     "data": {
      "image/png": "[encoded data removed]",
      "text/plain": [
       "<Figure size 432x288 with 1 Axes>"
      ]
     },
     "metadata": {
      "needs_background": "light"
     },
     "output_type": "display_data"
    },
    {
     "data": {
      "text/plain": [
       "<sympy.plotting.plot.Plot at 0x257ce1638d0>"
      ]
     },
     "execution_count": 16,
     "metadata": {},
     "output_type": "execute_result"
    }
   ],
   "source": [
    "#SymPy plotting\n",
    "#SymPy contains module for plotting. It is built on Matplotlib.\n",
    "#simple_plot.py\n",
    "#!/usr/bin/env python\n",
    "# uses matplotlib\n",
    "import sympy\n",
    "from sympy.abc import x\n",
    "from sympy.plotting import plot\n",
    "plot(1/x)"
   ]
  },
  {
   "cell_type": "code",
   "execution_count": 17,
   "metadata": {},
   "outputs": [
    {
     "ename": "NameError",
     "evalue": "name 'diff' is not defined",
     "output_type": "error",
     "traceback": [
      "\u001b[1;31m---------------------------------------------------------------------------\u001b[0m",
      "\u001b[1;31mNameError\u001b[0m                                 Traceback (most recent call last)",
      "\u001b[1;32m<ipython-input-17-4ec1dcd77b9e>\u001b[0m in \u001b[0;36m<module>\u001b[1;34m\u001b[0m\n\u001b[0;32m      1\u001b[0m \u001b[1;31m# Derivatives with one variable\u001b[0m\u001b[1;33m\u001b[0m\u001b[1;33m\u001b[0m\u001b[1;33m\u001b[0m\u001b[0m\n\u001b[1;32m----> 2\u001b[1;33m \u001b[0mdiff\u001b[0m\u001b[1;33m(\u001b[0m\u001b[0mcos\u001b[0m\u001b[1;33m(\u001b[0m\u001b[0mx\u001b[0m\u001b[1;33m)\u001b[0m\u001b[1;33m,\u001b[0m \u001b[0mx\u001b[0m\u001b[1;33m)\u001b[0m\u001b[1;33m\u001b[0m\u001b[1;33m\u001b[0m\u001b[0m\n\u001b[0m",
      "\u001b[1;31mNameError\u001b[0m: name 'diff' is not defined"
     ]
    }
   ],
   "source": [
    "# Derivatives with one variable\n",
    "diff(cos(x), x)"
   ]
  },
  {
   "cell_type": "code",
   "execution_count": 18,
   "metadata": {},
   "outputs": [
    {
     "ename": "NameError",
     "evalue": "name 'z' is not defined",
     "output_type": "error",
     "traceback": [
      "\u001b[1;31m---------------------------------------------------------------------------\u001b[0m",
      "\u001b[1;31mNameError\u001b[0m                                 Traceback (most recent call last)",
      "\u001b[1;32m<ipython-input-18-fdde202c8398>\u001b[0m in \u001b[0;36m<module>\u001b[1;34m\u001b[0m\n\u001b[0;32m      1\u001b[0m \u001b[1;31m# Derivative with many variables\u001b[0m\u001b[1;33m\u001b[0m\u001b[1;33m\u001b[0m\u001b[1;33m\u001b[0m\u001b[0m\n\u001b[0;32m      2\u001b[0m \u001b[1;32mimport\u001b[0m \u001b[0msympy\u001b[0m\u001b[1;33m\u001b[0m\u001b[1;33m\u001b[0m\u001b[0m\n\u001b[1;32m----> 3\u001b[1;33m \u001b[0mexpr\u001b[0m \u001b[1;33m=\u001b[0m \u001b[0mexp\u001b[0m\u001b[1;33m(\u001b[0m\u001b[0mx\u001b[0m\u001b[1;33m*\u001b[0m\u001b[0my\u001b[0m\u001b[1;33m*\u001b[0m\u001b[0mz\u001b[0m\u001b[1;33m)\u001b[0m\u001b[1;33m\u001b[0m\u001b[1;33m\u001b[0m\u001b[0m\n\u001b[0m\u001b[0;32m      4\u001b[0m \u001b[0mdiff\u001b[0m\u001b[1;33m(\u001b[0m\u001b[0mexpr\u001b[0m\u001b[1;33m,\u001b[0m \u001b[0mx\u001b[0m\u001b[1;33m,\u001b[0m \u001b[0my\u001b[0m\u001b[1;33m,\u001b[0m \u001b[0my\u001b[0m\u001b[1;33m,\u001b[0m \u001b[0mz\u001b[0m\u001b[1;33m,\u001b[0m \u001b[0mz\u001b[0m\u001b[1;33m,\u001b[0m \u001b[0mz\u001b[0m\u001b[1;33m,\u001b[0m \u001b[0mz\u001b[0m\u001b[1;33m)\u001b[0m\u001b[1;33m\u001b[0m\u001b[1;33m\u001b[0m\u001b[0m\n",
      "\u001b[1;31mNameError\u001b[0m: name 'z' is not defined"
     ]
    }
   ],
   "source": [
    "# Derivative with many variables\n",
    "import sympy\n",
    "expr = exp(x*y*z)\n",
    "diff(expr, x, y, y, z, z, z, z)"
   ]
  },
  {
   "cell_type": "code",
   "execution_count": 19,
   "metadata": {},
   "outputs": [
    {
     "ename": "NameError",
     "evalue": "name 'integrate' is not defined",
     "output_type": "error",
     "traceback": [
      "\u001b[1;31m---------------------------------------------------------------------------\u001b[0m",
      "\u001b[1;31mNameError\u001b[0m                                 Traceback (most recent call last)",
      "\u001b[1;32m<ipython-input-19-dbba39dad00e>\u001b[0m in \u001b[0;36m<module>\u001b[1;34m\u001b[0m\n\u001b[0;32m      1\u001b[0m \u001b[1;31m# Integrals\u001b[0m\u001b[1;33m\u001b[0m\u001b[1;33m\u001b[0m\u001b[1;33m\u001b[0m\u001b[0m\n\u001b[1;32m----> 2\u001b[1;33m \u001b[0mintegrate\u001b[0m\u001b[1;33m(\u001b[0m\u001b[0mexp\u001b[0m\u001b[1;33m(\u001b[0m\u001b[1;33m-\u001b[0m\u001b[0mx\u001b[0m\u001b[1;33m)\u001b[0m\u001b[1;33m,\u001b[0m \u001b[1;33m(\u001b[0m\u001b[0mx\u001b[0m\u001b[1;33m,\u001b[0m \u001b[1;36m0\u001b[0m\u001b[1;33m,\u001b[0m \u001b[0moo\u001b[0m\u001b[1;33m)\u001b[0m\u001b[1;33m)\u001b[0m\u001b[1;33m\u001b[0m\u001b[1;33m\u001b[0m\u001b[0m\n\u001b[0m",
      "\u001b[1;31mNameError\u001b[0m: name 'integrate' is not defined"
     ]
    }
   ],
   "source": [
    "# Integrals\n",
    "integrate(exp(-x), (x, 0, oo))"
   ]
  },
  {
   "cell_type": "code",
   "execution_count": null,
   "metadata": {},
   "outputs": [],
   "source": []
  },
  {
   "cell_type": "code",
   "execution_count": null,
   "metadata": {},
   "outputs": [],
   "source": []
  },
  {
   "cell_type": "code",
   "execution_count": null,
   "metadata": {},
   "outputs": [],
   "source": []
  }
 ],
 "metadata": {
  "kernelspec": {
   "display_name": "Python 3",
   "language": "python",
   "name": "python3"
  },
  "language_info": {
   "codemirror_mode": {
    "name": "ipython",
    "version": 3
   },
   "file_extension": ".py",
   "mimetype": "text/x-python",
   "name": "python",
   "nbconvert_exporter": "python",
   "pygments_lexer": "ipython3",
   "version": "3.7.3"
  }
 },
 "nbformat": 4,
 "nbformat_minor": 2
}
