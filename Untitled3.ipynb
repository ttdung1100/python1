{
 "cells": [
  {
   "cell_type": "code",
   "execution_count": 3,
   "metadata": {},
   "outputs": [
    {
     "ename": "SyntaxError",
     "evalue": "invalid syntax (<ipython-input-3-693f4fa68f45>, line 1)",
     "output_type": "error",
     "traceback": [
      "\u001b[1;36m  File \u001b[1;32m\"<ipython-input-3-693f4fa68f45>\"\u001b[1;36m, line \u001b[1;32m1\u001b[0m\n\u001b[1;33m    CREATE database python_db;\u001b[0m\n\u001b[1;37m                  ^\u001b[0m\n\u001b[1;31mSyntaxError\u001b[0m\u001b[1;31m:\u001b[0m invalid syntax\n"
     ]
    }
   ],
   "source": [
    "CREATE database python_db;"
   ]
  },
  {
   "cell_type": "code",
   "execution_count": 4,
   "metadata": {},
   "outputs": [
    {
     "ename": "SyntaxError",
     "evalue": "invalid syntax (<ipython-input-4-32ffa2c3e6a1>, line 1)",
     "output_type": "error",
     "traceback": [
      "\u001b[1;36m  File \u001b[1;32m\"<ipython-input-4-32ffa2c3e6a1>\"\u001b[1;36m, line \u001b[1;32m1\u001b[0m\n\u001b[1;33m    CREATE TABLE `python_db`.`Hospital` ( `Hospital_Id` INT UNSIGNED NOT NULL , `Hospital_Name` TEXT NOT NULL , `Bed_Count` INT ,\u001b[0m\n\u001b[1;37m               ^\u001b[0m\n\u001b[1;31mSyntaxError\u001b[0m\u001b[1;31m:\u001b[0m invalid syntax\n"
     ]
    }
   ],
   "source": [
    "CREATE TABLE `python_db`.`Hospital` ( `Hospital_Id` INT UNSIGNED NOT NULL , `Hospital_Name` TEXT NOT NULL , `Bed_Count` INT , \n",
    "PRIMARY KEY (`Hospital_Id`))\n",
    "INSERT INTO `hospital` (`Hospital_Id`, `Hospital_Name`, `Bed Count`) VALUES \n",
    "('1', 'Mayo Clinic', '200'), \n",
    "('2', 'Cleveland Clinic', '400'), \n",
    "('3', 'Johns Hopkins', '1000'), \n",
    "('4', 'UCLA Medical Center', '1500')\n"
   ]
  },
  {
   "cell_type": "code",
   "execution_count": 5,
   "metadata": {},
   "outputs": [
    {
     "ename": "SyntaxError",
     "evalue": "invalid syntax (<ipython-input-5-d714438764f1>, line 1)",
     "output_type": "error",
     "traceback": [
      "\u001b[1;36m  File \u001b[1;32m\"<ipython-input-5-d714438764f1>\"\u001b[1;36m, line \u001b[1;32m1\u001b[0m\n\u001b[1;33m    CREATE TABLE `python_db`.`Doctor`\u001b[0m\n\u001b[1;37m               ^\u001b[0m\n\u001b[1;31mSyntaxError\u001b[0m\u001b[1;31m:\u001b[0m invalid syntax\n"
     ]
    }
   ],
   "source": [
    "CREATE TABLE `python_db`.`Doctor` \n",
    "( `Doctor_Id` INT UNSIGNED NOT NULL , \n",
    "`Doctor_Name` TEXT NOT NULL , \n",
    "`Hospital_Id` INT NOT NULL , \n",
    "`Joining_Date` DATE NOT NULL , \n",
    "`Speciality` TEXT NULL , \n",
    "`Salary` INT NULL , \n",
    "`Experience` INT NULL , \n",
    "PRIMARY KEY (`Doctor_Id`))\n",
    "INSERT INTO `doctor` (`Doctor_Id`, `Doctor_Name`, `Hospital_Id`, `Joining_Date`, `Speciality`, `Salary`, `Experience`) VALUES \n",
    "('101', 'David', '1', '2005-2-10', 'Pediatric', '40000', NULL), \n",
    "('102', 'Michael', '1', '2018-07-23', 'Oncologist', '20000', NULL), \n",
    "('103', 'Susan', '2', '2016-05-19', 'Garnacologist', '25000', NULL), \n",
    "('104', 'Robert', '2', '2017-12-28', 'Pediatric ', '28000', NULL), \n",
    "('105', 'Linda', '3', '2004-06-04', 'Garnacologist', '42000', NULL), \n",
    "('106', 'William', '3', '2012-09-11', 'Dermatologist', '30000', NULL), \n",
    "('107', 'Richard', '4', '2014-08-21', 'Garnacologist', '32000', NULL), \n",
    "('108', 'Karen', '4', '2011-10-17', 'Radiologist', '30000', NULL)"
   ]
  },
  {
   "cell_type": "code",
   "execution_count": null,
   "metadata": {},
   "outputs": [],
   "source": []
  }
 ],
 "metadata": {
  "kernelspec": {
   "display_name": "Python 3",
   "language": "python",
   "name": "python3"
  },
  "language_info": {
   "name": ""
  }
 },
 "nbformat": 4,
 "nbformat_minor": 2
}
