{
 "cells": [
  {
   "cell_type": "code",
   "execution_count": 1,
   "metadata": {},
   "outputs": [
    {
     "name": "stdout",
     "output_type": "stream",
     "text": [
      "Generating 3 random integer number between 100 and 999 divisible by 5\n",
      "140, 440, 350, "
     ]
    }
   ],
   "source": [
    "import random\n",
    "print(\"Generating 3 random integer number between 100 and 999 divisible by 5\")\n",
    "for num in range(3):\n",
    "    print(random.randrange(100, 999, 5), end=', ')\n"
   ]
  },
  {
   "cell_type": "code",
   "execution_count": 2,
   "metadata": {},
   "outputs": [
    {
     "name": "stdout",
     "output_type": "stream",
     "text": [
      "creating 100 random lottery tickets\n",
      "Lucky 2 lottery tickets are [9716056737, 8415561647]\n"
     ]
    }
   ],
   "source": [
    "import random\n",
    "lottery_tickets_list = []\n",
    "print(\"creating 100 random lottery tickets\")\n",
    "for i in range(100):\n",
    "    lottery_tickets_list.append(random.randrange(1000000000, 9999999999))\n",
    "winners = random.sample(lottery_tickets_list, 2)\n",
    "print(\"Lucky 2 lottery tickets are\", winners)\n"
   ]
  },
  {
   "cell_type": "code",
   "execution_count": 3,
   "metadata": {},
   "outputs": [
    {
     "name": "stdout",
     "output_type": "stream",
     "text": [
      "Generating 6 digit random OTP\n",
      "Secure random OTP is  750685\n"
     ]
    }
   ],
   "source": [
    "import secrets\n",
    "#Getting systemRandom class instance out of secrets module\n",
    "secretsGenerator = secrets.SystemRandom()\n",
    "print(\"Generating 6 digit random OTP\")\n",
    "otp = secretsGenerator.randrange(100000, 999999)\n",
    "print(\"Secure random OTP is \", otp)\n"
   ]
  },
  {
   "cell_type": "code",
   "execution_count": 4,
   "metadata": {},
   "outputs": [
    {
     "name": "stdout",
     "output_type": "stream",
     "text": [
      "random char is  p\n"
     ]
    }
   ],
   "source": [
    "import random\n",
    "name = 'pynative'\n",
    "char = random.choice(name)\n",
    "print(\"random char is \", char)\n"
   ]
  },
  {
   "cell_type": "code",
   "execution_count": 5,
   "metadata": {},
   "outputs": [
    {
     "name": "stdout",
     "output_type": "stream",
     "text": [
      "Random String is  Wkihw\n"
     ]
    }
   ],
   "source": [
    "import random\n",
    "import string\n",
    "def randomString(stringLength):\n",
    "    \"\"\"Generate a random string of 5 charcters\"\"\"\n",
    "    letters = string.ascii_letters\n",
    "    return ''.join(random.choice(letters) for i in range(stringLength))\n",
    "print (\"Random String is \", randomString(5) )\n"
   ]
  },
  {
   "cell_type": "code",
   "execution_count": 6,
   "metadata": {},
   "outputs": [
    {
     "name": "stdout",
     "output_type": "stream",
     "text": [
      "First Random float is  0.9707914151626876\n",
      "Second Random float is  0.9707914151626876\n",
      "Multiplication is  11.358923269618934\n"
     ]
    }
   ],
   "source": [
    "import random\n",
    "num1  = random.random()\n",
    "print(\"First Random float is \", num1)\n",
    "num2 = random.uniform(9.5, 99.5)\n",
    "print(\"Second Random float is \", num1)\n",
    "num3 = num1 * num2\n",
    "print(\"Multiplication is \", num3)\n"
   ]
  },
  {
   "cell_type": "code",
   "execution_count": 7,
   "metadata": {},
   "outputs": [
    {
     "name": "stdout",
     "output_type": "stream",
     "text": [
      "Random secure Hexadecimal token is  c50466d2a34f2bb4ed9e61ad84152e9e4f913b78c9f5bd2685187ccffe2fc983200b50906c3fee6fbb3819ee145a4e670bfb2755bae2bcb9e8b0f4002ae69563\n",
      "Random secure URL is  LE9ZbQKZmrQC2eNQRKotQyLf9P4Tu1xtAZEAnCD24jHVWn8fOxoHYFsp8JsK3k7IsPTFfsDMSz4TXUFYBJYvcg\n"
     ]
    }
   ],
   "source": [
    "import secrets\n",
    "print(\"Random secure Hexadecimal token is \", secrets.token_hex(64))\n",
    "print(\"Random secure URL is \", secrets.token_urlsafe(64))\n"
   ]
  },
  {
   "cell_type": "code",
   "execution_count": 8,
   "metadata": {},
   "outputs": [
    {
     "name": "stdout",
     "output_type": "stream",
     "text": [
      "Randomly selecting same number of a dice\n",
      "4\n",
      "4\n",
      "4\n",
      "4\n",
      "4\n"
     ]
    }
   ],
   "source": [
    "import random\n",
    "dice = [1, 2, 3, 4, 5, 6]\n",
    "print(\"Randomly selecting same number of a dice\")\n",
    "for i in range(5):\n",
    "    random.seed(25)\n",
    "    print(random.choice(dice))\n"
   ]
  },
  {
   "cell_type": "code",
   "execution_count": 9,
   "metadata": {},
   "outputs": [
    {
     "name": "stdout",
     "output_type": "stream",
     "text": [
      "Printing random date between 1/1/2016  and  12/12/2018\n",
      "Random Date =  04/06/2018\n"
     ]
    }
   ],
   "source": [
    "import random\n",
    "import time\n",
    "def getRandomDate(startDate, endDate ):\n",
    "    print(\"Printing random date between\", startDate, \" and \", endDate)\n",
    "    randomGenerator = random.random()\n",
    "    dateFormat = '%m/%d/%Y'\n",
    "    startTime = time.mktime(time.strptime(startDate, dateFormat))\n",
    "    endTime = time.mktime(time.strptime(endDate, dateFormat))\n",
    "    randomTime = startTime + randomGenerator * (endTime - startTime)\n",
    "    randomDate = time.strftime(dateFormat, time.localtime(randomTime))\n",
    "    return randomDate\n",
    "print (\"Random Date = \", getRandomDate(\"1/1/2016\", \"12/12/2018\"))\n"
   ]
  },
  {
   "cell_type": "code",
   "execution_count": null,
   "metadata": {},
   "outputs": [],
   "source": []
  }
 ],
 "metadata": {
  "kernelspec": {
   "display_name": "Python 3",
   "language": "python",
   "name": "python3"
  },
  "language_info": {
   "codemirror_mode": {
    "name": "ipython",
    "version": 3
   },
   "file_extension": ".py",
   "mimetype": "text/x-python",
   "name": "python",
   "nbconvert_exporter": "python",
   "pygments_lexer": "ipython3",
   "version": "3.7.3"
  }
 },
 "nbformat": 4,
 "nbformat_minor": 2
}
