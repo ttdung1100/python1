{
 "cells": [
  {
   "cell_type": "code",
   "execution_count": 4,
   "metadata": {},
   "outputs": [
    {
     "name": "stdout",
     "output_type": "stream",
     "text": [
      "10 20\n",
      "20 10\n"
     ]
    }
   ],
   "source": [
    "#Swapping Of Two Numbers.\n",
    "\n",
    "x, y = 10, 20\n",
    "print(x, y)\n",
    "x, y = y, x \n",
    "print(x, y)"
   ]
  },
  {
   "cell_type": "code",
   "execution_count": 5,
   "metadata": {},
   "outputs": [
    {
     "name": "stdout",
     "output_type": "stream",
     "text": [
      "Reverse is skeeGroFskeeG\n"
     ]
    }
   ],
   "source": [
    "#Reversing a string in Python\n",
    "\n",
    "a =\"GeeksForGeeks\"\n",
    "print(\"Reverse is\", a[::-1])"
   ]
  },
  {
   "cell_type": "code",
   "execution_count": 6,
   "metadata": {},
   "outputs": [
    {
     "name": "stdout",
     "output_type": "stream",
     "text": [
      "Geeks For Geeks\n"
     ]
    }
   ],
   "source": [
    "#Create a single string from all the elements in list\n",
    "\n",
    "a = [\"Geeks\", \"For\", \"Geeks\"] \n",
    "print(\" \".join(a))"
   ]
  },
  {
   "cell_type": "code",
   "execution_count": 19,
   "metadata": {},
   "outputs": [
    {
     "name": "stdout",
     "output_type": "stream",
     "text": [
      "True\n",
      "False\n"
     ]
    }
   ],
   "source": [
    "n = 10\n",
    "result = 1<n\n",
    "a = n<9\n",
    "print(result)\n",
    "print(a)"
   ]
  },
  {
   "cell_type": "code",
   "execution_count": 14,
   "metadata": {},
   "outputs": [
    {
     "name": "stdout",
     "output_type": "stream",
     "text": [
      "<module 'os' from 'C:\\\\Users\\\\Dang Dung\\\\Anaconda3\\\\lib\\\\os.py'>\n",
      "<module 'socket' from 'C:\\\\Users\\\\Dang Dung\\\\Anaconda3\\\\lib\\\\socket.py'>\n"
     ]
    }
   ],
   "source": [
    "import os; \n",
    "import socket; \n",
    "print(os) \n",
    "print(socket)"
   ]
  },
  {
   "cell_type": "code",
   "execution_count": 15,
   "metadata": {},
   "outputs": [
    {
     "name": "stdout",
     "output_type": "stream",
     "text": [
      "2\n",
      "1\n",
      "2\n"
     ]
    }
   ],
   "source": [
    "class MyName: \n",
    "    Geeks, For, Geeks = range(3) \n",
    "print(MyName.Geeks) \n",
    "print(MyName.For) \n",
    "print(MyName.Geeks)"
   ]
  },
  {
   "cell_type": "code",
   "execution_count": 16,
   "metadata": {},
   "outputs": [
    {
     "name": "stdout",
     "output_type": "stream",
     "text": [
      "1 2 3 4\n"
     ]
    }
   ],
   "source": [
    "def x(): \n",
    "    return 1, 2, 3, 4\n",
    "a, b, c, d = x() \n",
    "print(a, b, c, d)"
   ]
  },
  {
   "cell_type": "code",
   "execution_count": 25,
   "metadata": {},
   "outputs": [
    {
     "name": "stdout",
     "output_type": "stream",
     "text": [
      "4\n"
     ]
    }
   ],
   "source": [
    "test = [1, 2, 3, 4, 2, 2, 3, 1, 4, 4, 4] \n",
    "print(max(set(test), key = test.count))"
   ]
  },
  {
   "cell_type": "code",
   "execution_count": 27,
   "metadata": {},
   "outputs": [
    {
     "name": "stdout",
     "output_type": "stream",
     "text": [
      "student's Grade\n",
      "Grade C\n"
     ]
    }
   ],
   "source": [
    "marks = 74\n",
    "print(\"student's Grade\")\n",
    "if marks >=90:\n",
    " print(\"Grade A\")\n",
    "elif marks >= 80:\n",
    " print(\"Grade B\")\n",
    "elif marks >= 70:\n",
    " print(\"Grade C\")\n",
    "elif marks >= 60:\n",
    " print(\"Grade D\")\n",
    "elif marks >= 60:\n",
    " Print(\"Grade E\")\n",
    "else:\n",
    " print (\"Grade f\")"
   ]
  },
  {
   "cell_type": "code",
   "execution_count": 28,
   "metadata": {},
   "outputs": [
    {
     "name": "stdout",
     "output_type": "stream",
     "text": [
      "0 apple\n",
      "1 banana\n",
      "2 mango\n",
      "3 grapes\n"
     ]
    }
   ],
   "source": [
    "Fruits = ['apple','banana','mango','grapes']\n",
    "i = 0\n",
    "for fruit in Fruits:\n",
    " print(i,fruit)\n",
    " i+=1"
   ]
  },
  {
   "cell_type": "code",
   "execution_count": 29,
   "metadata": {},
   "outputs": [
    {
     "name": "stdout",
     "output_type": "stream",
     "text": [
      "0 apple\n",
      "1 banana\n",
      "2 mango\n",
      "3 grapes\n"
     ]
    }
   ],
   "source": [
    "Fruits = ['apple','banana','mango','grapes']\n",
    "for i,fruit in enumerate(Fruits):\n",
    " print(i,fruit)"
   ]
  },
  {
   "cell_type": "code",
   "execution_count": 30,
   "metadata": {},
   "outputs": [
    {
     "name": "stdout",
     "output_type": "stream",
     "text": [
      "john D\n",
      "vinod A\n",
      "vasu c\n"
     ]
    }
   ],
   "source": [
    "students = ['john','vinod','vasu']\n",
    "grades =['D','A','c']\n",
    "for i in range(len(students)):\n",
    " student = students[i]\n",
    " grade = grades[i]\n",
    " print(student,grade)"
   ]
  },
  {
   "cell_type": "code",
   "execution_count": 31,
   "metadata": {},
   "outputs": [
    {
     "name": "stdout",
     "output_type": "stream",
     "text": [
      "john D\n",
      "vinod A\n",
      "vasu c\n"
     ]
    }
   ],
   "source": [
    "students = ['john','vinod','vasu']\n",
    "grades =['D','A','c']\n",
    "for student, grade in zip(students,grades):\n",
    "  print(student,grade)"
   ]
  },
  {
   "cell_type": "code",
   "execution_count": 32,
   "metadata": {},
   "outputs": [
    {
     "name": "stdout",
     "output_type": "stream",
     "text": [
      "Before swap 15 25\n",
      "After Swap 25 15\n"
     ]
    }
   ],
   "source": [
    "Valueone = 15\n",
    "ValueTwo = 25\n",
    "print('Before swap',Valueone,ValueTwo)\n",
    "temp=Valueone\n",
    "Valueone=ValueTwo\n",
    "ValueTwo=temp\n",
    "print('After Swap',Valueone,ValueTwo)"
   ]
  },
  {
   "cell_type": "code",
   "execution_count": 33,
   "metadata": {},
   "outputs": [
    {
     "name": "stdout",
     "output_type": "stream",
     "text": [
      "Before swap 15 25\n",
      "Afterswap 25 15\n"
     ]
    }
   ],
   "source": [
    "Valueone = 15\n",
    "ValueTwo = 25\n",
    "print('Before swap',Valueone,ValueTwo)\n",
    "Valueone, ValueTwo = ValueTwo, Valueone\n",
    "print('Afterswap',Valueone,ValueTwo)"
   ]
  },
  {
   "cell_type": "code",
   "execution_count": 34,
   "metadata": {},
   "outputs": [
    {
     "name": "stdout",
     "output_type": "stream",
     "text": [
      "Michael is from mumbai state\n"
     ]
    }
   ],
   "source": [
    "employees = {\n",
    "'vinod' : 'hyderabad',\n",
    "'kiran' : 'vizag',\n",
    "'harish': 'mumbai'\n",
    "}\n",
    "if 'harish' in employees:\n",
    " state = employees['harish']\n",
    "else:\n",
    " state = 'Not Found'\n",
    "print('Michael is from %s state' % state)"
   ]
  },
  {
   "cell_type": "code",
   "execution_count": 44,
   "metadata": {},
   "outputs": [
    {
     "name": "stdout",
     "output_type": "stream",
     "text": [
      "harish is from maharashtra state\n"
     ]
    }
   ],
   "source": [
    "employees = {\n",
    "'vinod' : 'hyderabad',\n",
    "'kiran' : 'vizag',\n",
    "'harish': 'maharashtra'\n",
    "}\n",
    "state = employees.get('harish','Unknown')\n",
    "print('harish is from %s state' % state)"
   ]
  },
  {
   "cell_type": "code",
   "execution_count": null,
   "metadata": {},
   "outputs": [],
   "source": []
  },
  {
   "cell_type": "code",
   "execution_count": null,
   "metadata": {},
   "outputs": [],
   "source": []
  },
  {
   "cell_type": "code",
   "execution_count": null,
   "metadata": {},
   "outputs": [],
   "source": []
  },
  {
   "cell_type": "code",
   "execution_count": null,
   "metadata": {},
   "outputs": [],
   "source": []
  }
 ],
 "metadata": {
  "kernelspec": {
   "display_name": "Python 3",
   "language": "python",
   "name": "python3"
  },
  "language_info": {
   "codemirror_mode": {
    "name": "ipython",
    "version": 3
   },
   "file_extension": ".py",
   "mimetype": "text/x-python",
   "name": "python",
   "nbconvert_exporter": "python",
   "pygments_lexer": "ipython3",
   "version": "3.7.3"
  }
 },
 "nbformat": 4,
 "nbformat_minor": 2
}
