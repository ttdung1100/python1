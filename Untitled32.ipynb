{
 "cells": [
  {
   "cell_type": "code",
   "execution_count": 1,
   "metadata": {},
   "outputs": [
    {
     "name": "stdout",
     "output_type": "stream",
     "text": [
      "series1:\n",
      "0    1\n",
      "1    2\n",
      "2    3\n",
      "3    4\n",
      "dtype: int64\n",
      "\n"
     ]
    }
   ],
   "source": [
    "# data_structure.py\n",
    "import pandas as pd\n",
    "import numpy as np\n",
    "series1 = pd.Series([1, 2, 3, 4])\n",
    "print(\"series1:\\n{}\\n\".format(series1))"
   ]
  },
  {
   "cell_type": "code",
   "execution_count": 2,
   "metadata": {},
   "outputs": [
    {
     "name": "stdout",
     "output_type": "stream",
     "text": [
      "series1.values: [1 2 3 4]\n",
      "\n",
      "series1.index: RangeIndex(start=0, stop=4, step=1)\n",
      "\n"
     ]
    }
   ],
   "source": [
    "# data_structure.py\n",
    "print(\"series1.values: {}\\n\".format(series1.values))\n",
    "print(\"series1.index: {}\\n\".format(series1.index))"
   ]
  },
  {
   "cell_type": "code",
   "execution_count": 3,
   "metadata": {},
   "outputs": [
    {
     "name": "stdout",
     "output_type": "stream",
     "text": [
      "series2:\n",
      "C    1\n",
      "D    2\n",
      "E    3\n",
      "F    4\n",
      "G    5\n",
      "A    6\n",
      "B    7\n",
      "dtype: int64\n",
      "\n",
      "E is 3\n",
      "\n"
     ]
    }
   ],
   "source": [
    "# data_structure.py\n",
    "series2 = pd.Series([1, 2, 3, 4, 5, 6, 7],\n",
    "    index=[\"C\", \"D\", \"E\", \"F\", \"G\", \"A\", \"B\"])\n",
    "print(\"series2:\\n{}\\n\".format(series2))\n",
    "print(\"E is {}\\n\".format(series2[\"E\"]))"
   ]
  },
  {
   "cell_type": "code",
   "execution_count": 4,
   "metadata": {},
   "outputs": [
    {
     "name": "stdout",
     "output_type": "stream",
     "text": [
      "df1:\n",
      "    0   1   2   3\n",
      "0   0   1   2   3\n",
      "1   4   5   6   7\n",
      "2   8   9  10  11\n",
      "3  12  13  14  15\n",
      "\n"
     ]
    }
   ],
   "source": [
    "# data_structure.py\n",
    "df1 = pd.DataFrame(np.arange(16).reshape(4,4))\n",
    "print(\"df1:\\n{}\\n\".format(df1))"
   ]
  },
  {
   "cell_type": "code",
   "execution_count": 5,
   "metadata": {},
   "outputs": [
    {
     "name": "stdout",
     "output_type": "stream",
     "text": [
      "df2:\n",
      "   column1  column2  column3  column4\n",
      "a        0        1        2        3\n",
      "b        4        5        6        7\n",
      "c        8        9       10       11\n",
      "d       12       13       14       15\n",
      "\n"
     ]
    }
   ],
   "source": [
    "# data_structure.py\n",
    "df2 = pd.DataFrame(np.arange(16).reshape(4,4),\n",
    "    columns=[\"column1\", \"column2\", \"column3\", \"column4\"],\n",
    "    index=[\"a\", \"b\", \"c\", \"d\"])\n",
    "print(\"df2:\\n{}\\n\".format(df2))"
   ]
  },
  {
   "cell_type": "code",
   "execution_count": 6,
   "metadata": {},
   "outputs": [
    {
     "name": "stdout",
     "output_type": "stream",
     "text": [
      "df3:\n",
      "  note weekday\n",
      "0    C     Mon\n",
      "1    D     Tue\n",
      "2    E     Wed\n",
      "3    F     Thu\n",
      "4    G     Fri\n",
      "5    A     Sat\n",
      "6    B     Sun\n",
      "\n"
     ]
    }
   ],
   "source": [
    "# data_structure.py\n",
    "df3 = pd.DataFrame({\"note\" : [\"C\", \"D\", \"E\", \"F\", \"G\", \"A\", \"B\"],\n",
    "    \"weekday\": [\"Mon\", \"Tue\", \"Wed\", \"Thu\", \"Fri\", \"Sat\", \"Sun\"]})\n",
    "print(\"df3:\\n{}\\n\".format(df3))"
   ]
  },
  {
   "cell_type": "code",
   "execution_count": 7,
   "metadata": {},
   "outputs": [
    {
     "name": "stdout",
     "output_type": "stream",
     "text": [
      "df4:\n",
      "     1    2    3    4    5    6    7\n",
      "0    C    D    E    F    G    A    B\n",
      "1  Mon  Tue  Wed  Thu  Fri  Sat  Sun\n",
      "\n"
     ]
    }
   ],
   "source": [
    "# data_structure.py\n",
    "noteSeries = pd.Series([\"C\", \"D\", \"E\", \"F\", \"G\", \"A\", \"B\"],\n",
    "    index=[1, 2, 3, 4, 5, 6, 7])\n",
    "weekdaySeries = pd.Series([\"Mon\", \"Tue\", \"Wed\", \"Thu\", \"Fri\", \"Sat\", \"Sun\"],\n",
    "    index=[1, 2, 3, 4, 5, 6, 7])\n",
    "df4 = pd.DataFrame([noteSeries, weekdaySeries])\n",
    "print(\"df4:\\n{}\\n\".format(df4))"
   ]
  },
  {
   "cell_type": "code",
   "execution_count": 8,
   "metadata": {},
   "outputs": [
    {
     "name": "stdout",
     "output_type": "stream",
     "text": [
      "df3:\n",
      "  note weekday  No.\n",
      "0    C     Mon    1\n",
      "1    D     Tue    2\n",
      "2    E     Wed    3\n",
      "3    F     Thu    4\n",
      "4    G     Fri    5\n",
      "5    A     Sat    6\n",
      "6    B     Sun    7\n",
      "\n",
      "df3:\n",
      "  note  No.\n",
      "0    C    1\n",
      "1    D    2\n",
      "2    E    3\n",
      "3    F    4\n",
      "4    G    5\n",
      "5    A    6\n",
      "6    B    7\n",
      "\n"
     ]
    }
   ],
   "source": [
    "# data_structure.py\n",
    "df3[\"No.\"] = pd.Series([1, 2, 3, 4, 5, 6, 7])\n",
    "print(\"df3:\\n{}\\n\".format(df3))\n",
    "del df3[\"weekday\"]\n",
    "print(\"df3:\\n{}\\n\".format(df3))"
   ]
  },
  {
   "cell_type": "code",
   "execution_count": 9,
   "metadata": {},
   "outputs": [
    {
     "name": "stdout",
     "output_type": "stream",
     "text": [
      "df3.columns\n",
      "Index(['note', 'No.'], dtype='object')\n",
      "\n",
      "df3.index\n",
      "RangeIndex(start=0, stop=7, step=1)\n",
      "\n"
     ]
    }
   ],
   "source": [
    "# data_structure.py\n",
    "print(\"df3.columns\\n{}\\n\".format(df3.columns))\n",
    "print(\"df3.index\\n{}\\n\".format(df3.index))"
   ]
  },
  {
   "cell_type": "code",
   "execution_count": 10,
   "metadata": {},
   "outputs": [
    {
     "name": "stdout",
     "output_type": "stream",
     "text": [
      "Note C, D is:\n",
      "0    C\n",
      "1    D\n",
      "Name: note, dtype: object\n",
      "\n",
      "Note C, D is:\n",
      "0    C\n",
      "1    D\n",
      "Name: note, dtype: object\n",
      "\n"
     ]
    }
   ],
   "source": [
    "# data_structure.py\n",
    "print(\"Note C, D is:\\n{}\\n\".format(df3.loc[[0, 1], \"note\"]))\n",
    "print(\"Note C, D is:\\n{}\\n\".format(df3.iloc[[0, 1], 0]))"
   ]
  },
  {
   "cell_type": "code",
   "execution_count": 11,
   "metadata": {},
   "outputs": [
    {
     "name": "stdout",
     "output_type": "stream",
     "text": [
      "s1.str.rstrip():\n",
      "0     1\n",
      "1    2 \n",
      "2    3 \n",
      "3     4\n",
      "4     5\n",
      "dtype: object\n",
      "\n",
      "s1.str.strip():\n",
      "0    1\n",
      "1    2\n",
      "2    3\n",
      "3    4\n",
      "4    5\n",
      "dtype: object\n",
      "\n",
      "s1.str.isdigit():\n",
      "0    False\n",
      "1    False\n",
      "2    False\n",
      "3     True\n",
      "4     True\n",
      "dtype: bool\n",
      "\n"
     ]
    }
   ],
   "source": [
    "# process_string.py\n",
    "import pandas as pd\n",
    "s1 = pd.Series([' 1', '2 ', ' 3 ', '4', '5']);\n",
    "print(\"s1.str.rstrip():\\n{}\\n\".format(s1.str.lstrip()))\n",
    "print(\"s1.str.strip():\\n{}\\n\".format(s1.str.strip()))\n",
    "print(\"s1.str.isdigit():\\n{}\\n\".format(s1.str.isdigit()))"
   ]
  },
  {
   "cell_type": "code",
   "execution_count": 12,
   "metadata": {},
   "outputs": [
    {
     "name": "stdout",
     "output_type": "stream",
     "text": [
      "s2.str.lower():\n",
      "0          stairway to heaven\n",
      "1                    eruption\n",
      "2                    freebird\n",
      "3            comfortably numb\n",
      "4    all along the watchtower\n",
      "dtype: object\n",
      "\n",
      "s2.str.upper():\n",
      "0          STAIRWAY TO HEAVEN\n",
      "1                    ERUPTION\n",
      "2                    FREEBIRD\n",
      "3            COMFORTABLY NUMB\n",
      "4    ALL ALONG THE WATCHTOWER\n",
      "dtype: object\n",
      "\n",
      "s2.str.len():\n",
      "0    18\n",
      "1     8\n",
      "2     8\n",
      "3    16\n",
      "4    24\n",
      "dtype: int64\n",
      "\n"
     ]
    }
   ],
   "source": [
    "# process_string.py\n",
    "s2 = pd.Series(['Stairway to Heaven', 'Eruption', 'Freebird',\n",
    "                    'Comfortably Numb', 'All Along the Watchtower'])\n",
    "print(\"s2.str.lower():\\n{}\\n\".format(s2.str.lower()))\n",
    "print(\"s2.str.upper():\\n{}\\n\".format(s2.str.upper()))\n",
    "print(\"s2.str.len():\\n{}\\n\".format(s2.str.len()))"
   ]
  },
  {
   "cell_type": "code",
   "execution_count": null,
   "metadata": {},
   "outputs": [],
   "source": []
  },
  {
   "cell_type": "code",
   "execution_count": null,
   "metadata": {},
   "outputs": [],
   "source": []
  }
 ],
 "metadata": {
  "kernelspec": {
   "display_name": "Python 3",
   "language": "python",
   "name": "python3"
  },
  "language_info": {
   "codemirror_mode": {
    "name": "ipython",
    "version": 3
   },
   "file_extension": ".py",
   "mimetype": "text/x-python",
   "name": "python",
   "nbconvert_exporter": "python",
   "pygments_lexer": "ipython3",
   "version": "3.7.3"
  }
 },
 "nbformat": 4,
 "nbformat_minor": 2
}
